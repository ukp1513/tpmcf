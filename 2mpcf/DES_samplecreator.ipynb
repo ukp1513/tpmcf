{
 "cells": [
  {
   "cell_type": "code",
   "execution_count": 1,
   "id": "c703b587-6557-41db-97aa-c92362054a35",
   "metadata": {},
   "outputs": [],
   "source": [
    "# First import some things we are gonna need\n",
    "#import treecorr\n",
    "import healpy as hp\n",
    "from astropy import units as u\n",
    "from astropy.coordinates import SkyCoord\n",
    "from astropy.io import fits\n",
    "from astropy.table import Table\n",
    "import numpy as np \n",
    "import matplotlib.pyplot as plt\n",
    "from astropy import units as u\n",
    "from astropy.coordinates import Angle\n",
    "import pandas as pd\n",
    "from angular_mcf import runComputation\n",
    "from fit_cf import fitAngularCfMcf\n",
    "import os \n",
    "import sys\n",
    "sys.path.append('/home/krishna/Dropbox/updated_codes/')\n",
    "\n",
    "from mypy_tree_angular import run_omega_computation\n",
    "from mypy_tree_angular_mcf import run_omega_mcf_computation\n",
    "from mypy_JKGenerator_singleRegn import make_jk_sample\n",
    "from mypy_fit_omega import fit_omega_mcf\n",
    "\n",
    "typp = 'all'\n",
    "times_randoms = 1"
   ]
  },
  {
   "cell_type": "code",
   "execution_count": 2,
   "id": "291a359f-dbb1-4e3d-97b7-056f92ef377e",
   "metadata": {},
   "outputs": [],
   "source": [
    "# Open MAP \n",
    "# ==========================================\n",
    "MAP = hp.read_map('/home/krishna/Documents/DES_MCF/dr2_hpix_4096_frac_detection_g.fits.fz')\n",
    "conv = np.pi/180.\n",
    "ra_min = -70.0*conv\n",
    "ra_max = 110.*conv\n",
    "dec_min = -70.*conv\n",
    "dec_max = 10.*conv\n",
    "# ========================\n",
    "# ========================\n",
    "rand_ra = np.random.uniform(ra_min, ra_max, 10**7)\n",
    "rand_sindec = np.random.uniform(np.sin(dec_min), np.sin(dec_max), 10**7)\n",
    "rand_dec = np.arcsin(rand_sindec)\n",
    "# ========================"
   ]
  },
  {
   "cell_type": "code",
   "execution_count": 3,
   "id": "8f4df768-c76f-4a7c-9bc1-82aadc3e750e",
   "metadata": {},
   "outputs": [],
   "source": [
    "# Get the healpix indices of the randoms\n",
    "HP_ind_rand = hp.ang2pix(4096, rand_ra/conv, rand_dec/conv, lonlat=True)"
   ]
  },
  {
   "cell_type": "code",
   "execution_count": 4,
   "id": "a114d5a2-0a01-4f5a-885f-49f17b1e78b0",
   "metadata": {},
   "outputs": [],
   "source": [
    "# Keep only those with randoms for which the value of the des mask \n",
    "# ===============================================\n",
    "# ===============================================\n",
    "# Keep local mask\n",
    "# Get a mask - 1 inside the DES mask\n",
    "DES_mask = np.zeros(len(MAP))\n",
    "DES_mask[MAP>0] = 1\n",
    "LOCAL_mask_rand = DES_mask[HP_ind_rand]\n",
    "\n",
    "# Keep those with LOCAL_mask = 1\n",
    "rand_ra_pos = rand_ra[LOCAL_mask_rand==1]\n",
    "rand_dec_pos = rand_dec[LOCAL_mask_rand==1]\n",
    "\n",
    "ra_angles = Angle(rand_ra_pos, unit=u.rad)\n",
    "ra_angles_wrap=ra_angles.wrap_at(360.0* u.deg)\n",
    "dec_angles = Angle(rand_dec_pos, unit=u.rad)\n",
    "\n",
    "rand_ra_deg = ra_angles_wrap.degree\n",
    "rand_dec_deg = dec_angles.degree\n",
    "\n",
    "rand_ID = [i for i in range(len(rand_ra_deg))]\n",
    "df_rand_full = pd.DataFrame({'ID': rand_ID, 'RA': rand_ra_deg, 'Dec': rand_dec_deg})"
   ]
  },
  {
   "cell_type": "code",
   "execution_count": 5,
   "id": "e94a8460-e08e-4037-9f19-cc69bbab2051",
   "metadata": {},
   "outputs": [],
   "source": [
    "#realdata = Table.read('HSBG_sample_Thuruthipilly+24_v1.fits', format='fits').to_pandas()\n",
    "#realdata = Table.read('DES_LSB+HSB_concatenatedTable.fits', format='fits').to_pandas()\n",
    "#realdata = Table.read('DES_LSB+Mid_HSB_concatenatedTable.fits', format='fits').to_pandas()\n",
    "\n",
    "#realdata.rename(columns = {'COADD_OBJECT_ID':'ID'}, inplace = True)\n",
    "#realdata['COLOR_G_I']=realdata['MAG_AUTO_G']-realdata['MAG_AUTO_I']\n"
   ]
  },
  {
   "cell_type": "code",
   "execution_count": null,
   "id": "3d606bbd-c136-42da-a942-294ab59eb8c8",
   "metadata": {},
   "outputs": [],
   "source": []
  },
  {
   "cell_type": "code",
   "execution_count": 6,
   "id": "e84073f2-2e27-47e8-b604-79e6585789f8",
   "metadata": {},
   "outputs": [],
   "source": [
    "working_dir = os.getcwd()\n"
   ]
  },
  {
   "cell_type": "code",
   "execution_count": 7,
   "id": "5b1dcfdd-d5d0-4fef-9fcb-e50579b1f2c8",
   "metadata": {},
   "outputs": [],
   "source": [
    "\n",
    "#LSB\n",
    "realdata = Table.read('/home/krishna/Documents/DES_MCF/DES_LSB_Thuruthipilly+24_Sextractor.fits', format='fits').to_pandas()\n",
    "\n",
    "\n",
    "\n",
    "realdata = realdata[realdata['MAG_AUTO_G'] < 19.85]\n",
    "\n",
    "realdata['COLOR_G_I']=realdata['MAG_AUTO_G']-realdata['MAG_AUTO_I']\n",
    "    \n",
    "    \n",
    "n_real = len(realdata)\n",
    "n_rand = times_randoms*n_real\n",
    "\n",
    "df_rand_full_sampled = df_rand_full.sample(150000)\n",
    "\n",
    "cols_towrite_real = ['COADD_OBJECT_ID','RA','DEC','COLOR_G_I','MU_MEAN_MODEL_G','MAG_AUTO_G','MAG_AUTO_I']\n",
    "\n",
    "df_subset = realdata[cols_towrite_real]\n",
    "\n",
    "realdata_nandropped = df_subset.dropna()\n",
    "\n",
    "realdata_towrite = realdata_nandropped\n",
    "\n",
    "realdata_towrite.to_csv('real_galaxies', sep='\\t',columns = cols_towrite_real, index=False, float_format='%f', header=[f'#{x}' if x == cols_towrite_real[0] else x for x in cols_towrite_real])\n",
    "\n",
    "\n",
    "cols_towrite_random = ['ID','RA','Dec']\n",
    "df_rand_full_sampled.to_csv('random_galaxies', sep='\\t',columns = cols_towrite_random, index=False, float_format='%f',header=[f'#{x}' if x == cols_towrite_random[0] else x for x in cols_towrite_random])\n",
    "\n",
    "    \n",
    "#make_jk_sample(working_dir, njacks_ra=1, njacks_dec=30)\n",
    "#run_omega_mcf_computation(working_dir)\n",
    "#fit_omega_mcf(work_on_mcf = 1, fit_2pcf = 1, dir_name=working_dir)"
   ]
  },
  {
   "cell_type": "code",
   "execution_count": null,
   "id": "8be14332-7b91-457a-b7fa-01339fdab7e4",
   "metadata": {},
   "outputs": [],
   "source": []
  },
  {
   "cell_type": "code",
   "execution_count": 8,
   "id": "15f4f9db-cf50-4626-8ad3-e4ca899ef220",
   "metadata": {},
   "outputs": [],
   "source": [
    "\n",
    "\n",
    "\n",
    "realpops = ['COLOR_G_I','MU_MEAN_MODEL_G','MAG_AUTO_G','MAG_AUTO_I']"
   ]
  },
  {
   "cell_type": "code",
   "execution_count": 9,
   "id": "aef20843-5185-4c6e-a555-42ab7042032a",
   "metadata": {},
   "outputs": [],
   "source": [
    "runComputation(realdata_towrite, realpops, df_rand_full_sampled, njacks_ra=1 , njacks_dec=30)"
   ]
  },
  {
   "cell_type": "code",
   "execution_count": 10,
   "id": "84de6beb-73c3-4888-ac21-98faece43280",
   "metadata": {},
   "outputs": [
    {
     "name": "stdout",
     "output_type": "stream",
     "text": [
      "\n",
      "SVD correction NOT done!\n",
      "\n",
      "Hartlap correction NOT done!\n",
      "\n",
      "--------------------------------------------\n",
      "\n",
      "Fitting sample 2MPCF....\n",
      "\n",
      "--------------------------------------------\n",
      "\n",
      "Nr. of total bins:  22\n",
      "Nr. of JK/BS copies:  30\n",
      "Marks :  ['COLOR_G_I', 'MU_MEAN_MODEL_G', 'MAG_AUTO_G', 'MAG_AUTO_I']\n",
      "Number of CF bins with non-nan values: 14\n",
      "Number of bins used for CF fitting  7\n",
      "Curve fitting parameters:\n",
      "A = 0.19 +/- 0.03\n",
      "gamma = 1.99 +/- 0.06\n",
      "\n"
     ]
    }
   ],
   "source": [
    "fitAngularCfMcf(realdata_towrite, realpops, sepmin= 0.01, sepmax=10.0, sepmin_tofit=0.4, sepmax_tofit=10.0, \n",
    "                to_svd_filter=0, to_hartlap_corr=0, fit_2pcf = 1, work_on_mcf = 1, \n",
    "                dir_name=os.getcwd())"
   ]
  }
 ],
 "metadata": {
  "kernelspec": {
   "display_name": "Python 3 (ipykernel)",
   "language": "python",
   "name": "python3"
  },
  "language_info": {
   "codemirror_mode": {
    "name": "ipython",
    "version": 3
   },
   "file_extension": ".py",
   "mimetype": "text/x-python",
   "name": "python",
   "nbconvert_exporter": "python",
   "pygments_lexer": "ipython3",
   "version": "3.8.10"
  }
 },
 "nbformat": 4,
 "nbformat_minor": 5
}
